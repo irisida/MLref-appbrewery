{
 "cells": [
  {
   "cell_type": "markdown",
   "metadata": {},
   "source": [
    "# MSE (Mean Squared Error)"
   ]
  },
  {
   "cell_type": "markdown",
   "metadata": {},
   "source": [
    "The MSE is a real world cost function. \n",
    "\n",
    "The goal of linear regression is to minimise the distances between the points (datapoints) and the line. A good line is one the reduces/minimises the RSS (residual sum of squares). To calculate the RSS we should take the difference between actual value and fitted value (datapoints and line) and sum them, values below the line would therefore have a negative value. To mitigate we square all the values and sum them.\n",
    "In summary it's a indicator of the dependant variables variation that the model does not explain. The smaller the number the better the model fits the data. Large numbers are a poor fit."
   ]
  },
  {
   "cell_type": "markdown",
   "metadata": {},
   "source": [
    "To get the MSE we take the RSS and divide it by the numbe of data points."
   ]
  },
  {
   "cell_type": "code",
   "execution_count": 1,
   "metadata": {},
   "outputs": [],
   "source": [
    "import numpy as np\n",
    "import matplotlib.pyplot as plt\n",
    "\n",
    "# add support for 3d plot\n",
    "from mpl_toolkits.mplot3d.axes3d import Axes3D\n",
    "\n",
    "# add support for colormaps \n",
    "from matplotlib import cm\n",
    "\n",
    "# add additional mathematical support\n",
    "# from sympy import symbols, diff\n",
    "# from math import log\n",
    "\n",
    "%matplotlib inline"
   ]
  },
  {
   "cell_type": "markdown",
   "metadata": {},
   "source": [
    "## MSE - A cost function for regression problems \n",
    "\n",
    "#### $RSS = \\sum_{i=1}^{n} \\big( y^{(i)} - h_\\theta x^{(i)} \\big)^2$\n",
    "\n",
    "#### $MSE = \\frac{1}{n} \\sum_{i=1}^{n} \\big( y^{(i)} - h_\\theta x^{(i)} \\big)^2$"
   ]
  },
  {
   "cell_type": "code",
   "execution_count": null,
   "metadata": {},
   "outputs": [],
   "source": []
  },
  {
   "cell_type": "code",
   "execution_count": null,
   "metadata": {},
   "outputs": [],
   "source": []
  }
 ],
 "metadata": {
  "kernelspec": {
   "display_name": "Python [conda env:mlkit] *",
   "language": "python",
   "name": "conda-env-mlkit-py"
  },
  "language_info": {
   "codemirror_mode": {
    "name": "ipython",
    "version": 3
   },
   "file_extension": ".py",
   "mimetype": "text/x-python",
   "name": "python",
   "nbconvert_exporter": "python",
   "pygments_lexer": "ipython3",
   "version": "3.7.6"
  }
 },
 "nbformat": 4,
 "nbformat_minor": 4
}
