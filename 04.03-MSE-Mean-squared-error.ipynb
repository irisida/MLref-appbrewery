{
 "cells": [
  {
   "cell_type": "markdown",
   "metadata": {},
   "source": [
    "# MSE (Mean Squared Error)"
   ]
  },
  {
   "cell_type": "markdown",
   "metadata": {},
   "source": [
    "#### What is the MSE?  \n",
    "> The MSE is a real world cost function. \n",
    "\n",
    "#### How do we calculate it?\n",
    "> To get the MSE we take the RSS and divide it by the numbe of data points.\n",
    "\n",
    "#### Why use it?\n",
    "Some considerations for the use of MSE: \n",
    "\n",
    "* The goal of linear regression is to minimise the distances between the points (datapoints) and the line (known as the RSS). \n",
    "* A good line is one the reduces/minimises the RSS (residual sum of squares). \n",
    "* To calculate the RSS we should take the difference between actual value and fitted value (datapoints and line) and sum them. * values below the line would therefore have a negative value. To mitigate we _square_ all the values and sum them.\n",
    "\n",
    "In summary it's a indicator of the dependant variables variation that the model does not explain. The smaller the number the better the model fits the data. Large numbers are a poor fit."
   ]
  },
  {
   "cell_type": "code",
   "execution_count": 47,
   "metadata": {},
   "outputs": [],
   "source": [
    "import numpy as np\n",
    "import matplotlib.pyplot as plt\n",
    "\n",
    "# add support for 3d plot\n",
    "from mpl_toolkits.mplot3d.axes3d import Axes3D\n",
    "\n",
    "# add support for colormaps \n",
    "from matplotlib import cm\n",
    "\n",
    "# add additional mathematical support\n",
    "# from sympy import symbols, diff\n",
    "# from math import log\n",
    "\n",
    "# add ML libs\n",
    "from sklearn.linear_model import LinearRegression\n",
    "from sklearn.metrics import mean_squared_error\n",
    "\n",
    "%matplotlib inline"
   ]
  },
  {
   "cell_type": "markdown",
   "metadata": {},
   "source": [
    "## MSE - A cost function for regression problems \n",
    "\n",
    "#### $RSS = \\sum_{i=1}^{n} \\big( y^{(i)} - h_\\theta x^{(i)} \\big)^2$\n",
    "\n",
    "The MSE has two typical notations:\n",
    "\n",
    "#### $MSE = \\frac{1}{n} \\sum_{i=1}^{n} \\big( y^{(i)} - h_\\theta x^{(i)} \\big)^2$\n",
    "\n",
    "#### $MSE = \\frac{1}{n} \\sum_{i=1}^{n} \\big( y - \\hat{y} \\big)^2$"
   ]
  },
  {
   "cell_type": "markdown",
   "metadata": {},
   "source": [
    "Why is the MSE moe useful as a cost function than the RSS? \n",
    "\n",
    "* In a large dataset using the RSS would result in a $y$ and $\\hat{y}$ value for each data point. \n",
    "* With RSS further or exponential data growth would lead to the sum growing accordingly. \n",
    "* Using RSS would mean performance would be extremely poor, eventually we would have an overflow error. \n",
    "* The MSE is contantly dividing by the number of samples therefor we have a better all round scalability and performance. "
   ]
  },
  {
   "cell_type": "code",
   "execution_count": 16,
   "metadata": {},
   "outputs": [],
   "source": [
    "# Make the sample data \n",
    "x = np.array([[0.1, 1.2, 2.4, 3.2, 4.1, 5.7, 6.5]]).transpose()\n",
    "y = np.array([1.7, 2.4, 3.5, 3.0, 6.1, 9.4, 8.2]).reshape(7,1)"
   ]
  },
  {
   "cell_type": "code",
   "execution_count": 19,
   "metadata": {},
   "outputs": [
    {
     "data": {
      "text/plain": [
       "LinearRegression(copy_X=True, fit_intercept=True, n_jobs=None, normalize=False)"
      ]
     },
     "execution_count": 19,
     "metadata": {},
     "output_type": "execute_result"
    }
   ],
   "source": [
    "# run a linearRegressin\n",
    "reg = LinearRegression()\n",
    "reg.fit(x, y)"
   ]
  },
  {
   "cell_type": "code",
   "execution_count": 21,
   "metadata": {},
   "outputs": [
    {
     "name": "stdout",
     "output_type": "stream",
     "text": [
      "Theta0:  0.8475351486029536\n",
      "Theta1:  1.2227264637835915\n"
     ]
    }
   ],
   "source": [
    "# finding the theta0 and theta1\n",
    "print('Theta0: ', reg.intercept_[0])\n",
    "print('Theta1: ', reg.coef_[0][0])"
   ]
  },
  {
   "cell_type": "code",
   "execution_count": 33,
   "metadata": {},
   "outputs": [
    {
     "data": {
      "image/png": "[encoded data removed]",
      "text/plain": [
       "<Figure size 720x432 with 1 Axes>"
      ]
     },
     "metadata": {},
     "output_type": "display_data"
    }
   ],
   "source": [
    "plt.style.use('dark_background')\n",
    "plt.figure(figsize=(10,6))\n",
    "plt.grid(color='w', alpha=0.15)\n",
    "\n",
    "plt.xlabel('X Values', fontsize=16)\n",
    "plt.ylabel('Y values', fontsize=16)\n",
    "\n",
    "plt.scatter(x, y, s=80, color='#ff6090', alpha=0.7)\n",
    "plt.plot(x, reg.predict(x), color='#e91e63', alpha=0.5, linewidth=2);"
   ]
  },
  {
   "cell_type": "markdown",
   "metadata": {},
   "source": [
    "## Implementing the MSE cost function\n",
    "\n",
    "###  $\\hat{y} = theta0 + theta1 * x$\n",
    "\n",
    "This means that the $\\hat{y}$ = the intercept + the slope * the X value"
   ]
  },
  {
   "cell_type": "code",
   "execution_count": 37,
   "metadata": {},
   "outputs": [
    {
     "name": "stdout",
     "output_type": "stream",
     "text": [
      "yhat values: \n",
      " [[0.96980779]\n",
      " [2.31480691]\n",
      " [3.78207866]\n",
      " [4.76025983]\n",
      " [5.86071365]\n",
      " [7.81707599]\n",
      " [8.79525716]]\n",
      "actual Y values: \n",
      " [[1.7]\n",
      " [2.4]\n",
      " [3.5]\n",
      " [3. ]\n",
      " [6.1]\n",
      " [9.4]\n",
      " [8.2]]\n"
     ]
    }
   ],
   "source": [
    "yh = 0.8475351486029536 + 1.2227264637835915 * x\n",
    "print('yhat values: \\n', yh)\n",
    "print('actual Y values: \\n', y)"
   ]
  },
  {
   "cell_type": "markdown",
   "metadata": {},
   "source": [
    "#### Versions of the MSE function"
   ]
  },
  {
   "cell_type": "code",
   "execution_count": 50,
   "metadata": {},
   "outputs": [],
   "source": [
    "# version 1 - the specific manual calculation\n",
    "\n",
    "# def mse(y, yh):\n",
    "#     mse_calc = 1/7 * sum((y - yh)**2)          # specific and low reusage \n",
    "#     return mse_calc"
   ]
  },
  {
   "cell_type": "code",
   "execution_count": null,
   "metadata": {},
   "outputs": [],
   "source": [
    "# version 2 - The manual calculation made generic for reuse \n",
    "\n",
    "# def mse(y, yh):\n",
    "#     mse_calc = 1/y.size * sum((y - yh)**2)     # more generic as using the .size\n",
    "#     return mse_calc"
   ]
  },
  {
   "cell_type": "code",
   "execution_count": 44,
   "metadata": {},
   "outputs": [],
   "source": [
    "# version 3 - use the numpy built-in functions and use axis=0 to drive agregation by row. \n",
    "def mse(y, yh):\n",
    "    mse_calc = np.average((y - yh)**2, axis=0)  # uses numpy to do the work and axis = 0 uses the rows as the driver\n",
    "    return mse_calc"
   ]
  },
  {
   "cell_type": "code",
   "execution_count": 49,
   "metadata": {},
   "outputs": [
    {
     "name": "stdout",
     "output_type": "stream",
     "text": [
      "Manually calculated MSE:  [0.94796558]\n",
      "sklearn MSE using calc yhat 0.9479655759794577\n",
      "sklearn MSE using predict 0.9479655759794577\n"
     ]
    }
   ],
   "source": [
    "print('Manually calculated MSE: ', mse(y, yh))                              # uses verson 3 of our own cooked function \n",
    "print('sklearn MSE using calc yhat', mean_squared_error(y, yh))             # uses sklearn \n",
    "print('sklearn MSE using predict', mean_squared_error(y, reg.predict(x)))   # sklearn and model.predict "
   ]
  },
  {
   "cell_type": "code",
   "execution_count": null,
   "metadata": {},
   "outputs": [],
   "source": [
    " "
   ]
  }
 ],
 "metadata": {
  "kernelspec": {
   "display_name": "Python [conda env:mlkit] *",
   "language": "python",
   "name": "conda-env-mlkit-py"
  },
  "language_info": {
   "codemirror_mode": {
    "name": "ipython",
    "version": 3
   },
   "file_extension": ".py",
   "mimetype": "text/x-python",
   "name": "python",
   "nbconvert_exporter": "python",
   "pygments_lexer": "ipython3",
   "version": "3.7.6"
  }
 },
 "nbformat": 4,
 "nbformat_minor": 4
}
